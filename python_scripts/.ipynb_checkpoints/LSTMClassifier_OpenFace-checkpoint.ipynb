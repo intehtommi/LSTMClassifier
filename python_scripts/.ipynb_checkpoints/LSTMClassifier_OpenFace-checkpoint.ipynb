{
 "cells": [
  {
   "cell_type": "code",
   "execution_count": 2,
   "metadata": {},
   "outputs": [],
   "source": [
    "import os\n",
    "import math\n",
    "import pandas as pd\n",
    "from sklearn.model_selection import KFold\n",
    "import numpy as np\n",
    "import glob\n",
    "import torch\n",
    "import torch.nn as nn\n",
    "from torch.optim import SGD"
   ]
  },
  {
   "cell_type": "code",
   "execution_count": 107,
   "metadata": {},
   "outputs": [],
   "source": [
    "def tround(num, dec=0):\n",
    "    if (np.isnan(num)):\n",
    "        return 0\n",
    "    else:\n",
    "        a = math.floor(float(num))\n",
    "        if (num%1>=0.5):\n",
    "            return(a+1)\n",
    "        else:\n",
    "            return(a)"
   ]
  },
  {
   "cell_type": "code",
   "execution_count": 108,
   "metadata": {},
   "outputs": [],
   "source": [
    "scoredf = pd.read_csv(\"../Time-Table-Annotation.csv\")\n",
    "AU = pd.read_csv(\"../OpenFace_200/A1/AU/002-A-L-AU.csv\")\n",
    "score = scoredf.loc[1:,[\"ID\",\"Class Level\"]]\n",
    "score=score.dropna().values\n",
    "train_index = np.array([1,2])\n",
    "test_index = np.array([1,2])"
   ]
  },
  {
   "cell_type": "code",
   "execution_count": 109,
   "metadata": {},
   "outputs": [],
   "source": [
    "def Dataset_create(train_index, test_index, AU, score):\n",
    "    X_train = np.empty([AU.T.shape[0],AU.T.shape[1]])\n",
    "    X_test = np.empty([AU.T.shape[0],AU.T.shape[1]])\n",
    "    count = []\n",
    "    for filenum in train_index:\n",
    "        if (''.join(glob.iglob('../OpenFace_200/**/'+score[filenum][0]+'*-AU.csv', recursive=True))==''):\n",
    "            count.append(filenum)\n",
    "        else:\n",
    "            for filename in glob.iglob('../OpenFace_200/**/'+score[filenum][0]+'*-AU.csv', recursive=True):\n",
    "                AU = pd.read_csv(filename).values\n",
    "                if (X_train.shape[1]>AU.T.shape[1]):\n",
    "                    X_train = X_train[:,0:AU.T.shape[1]] #reduces features to the minimum of all test data. Is this ok?\n",
    "                X_train = np.dstack((X_train, AU.T[:,0:X_train.shape[1]]))\n",
    "    train_index = train_index.tolist()\n",
    "    for i in count:\n",
    "        train_index.remove(i)\n",
    "    count =[]\n",
    "    for filenum in test_index:\n",
    "        if (''.join(glob.iglob('../OpenFace_200/**/'+score[filenum][0]+'*-AU.csv', recursive=True))==''):\n",
    "            count.append(filenum)\n",
    "        else:\n",
    "            for filename in glob.iglob('../OpenFace_200/**/'+score[filenum][0]+'*-AU.csv', recursive=True):\n",
    "                AU = pd.read_csv(filename).values\n",
    "                if (X_test.shape[1]>AU.T.shape[1]):\n",
    "                    X_test = X_test[:,0:AU.T.shape[1]] #reduces features to the minimum of all test data. Is this ok?\n",
    "                    X_train = X_train[:,0:AU.T.shape[1]] #reduces features to the minimum of all test data. Is this ok?\n",
    "                X_test = np.dstack((X_test, AU.T[:,0:X_test.shape[1]]))\n",
    "    test_index = test_index.tolist()\n",
    "    for i in count:\n",
    "        test_index.remove(i)\n",
    "    y_test = np.array([tround(float(score[i][1])) for i in test_index])\n",
    "    y_train = np.array([tround(float(score[i][1])) for i in train_index])\n",
    "    X_train = X_train[:,:,1:]\n",
    "    X_test = X_test[:,:X_train.shape[1],1:]\n",
    "    X_train = X_train.transpose(2,0,1)\n",
    "    #X_train = np.reshape(X_train[:,:,:], [-1, X_train.shape[1]*X_train.shape[-1]])\n",
    "    X_test = X_test.transpose(2,0,1)\n",
    "    #X_test = np.reshape(X_test[:,:,:], [-1, X_test.shape[1]*X_test.shape[-1]])\n",
    "    return X_train, X_test, y_train, y_test"
   ]
  },
  {
   "cell_type": "code",
   "execution_count": 110,
   "metadata": {},
   "outputs": [
    {
     "name": "stdout",
     "output_type": "stream",
     "text": [
      "(154, 18, 10531) (19, 18, 10531) (154,) (19,)\n"
     ]
    }
   ],
   "source": [
    "kf = KFold(n_splits = 10, shuffle = True)\n",
    "for train_index, test_index in kf.split(score):\n",
    "    X_train, X_test, y_train, y_test = Dataset_create(train_index, test_index, AU, score)\n",
    "    print(X_train.shape, X_test.shape, y_train.shape, y_test.shape)\n",
    "    break"
   ]
  },
  {
   "cell_type": "code",
   "execution_count": 111,
   "metadata": {},
   "outputs": [],
   "source": [
    "def reshapeindices_flat(X_train, X_test):\n",
    "    X_train = np.reshape(X_train, [-1, X_train.shape[1]*X_train.shape[-1]])\n",
    "    X_test = np.reshape(X_test, [-1, X_test.shape[1]*X_test.shape[-1]])\n",
    "    return X_train, X_test"
   ]
  },
  {
   "cell_type": "code",
   "execution_count": 112,
   "metadata": {},
   "outputs": [],
   "source": [
    "def reshapeindices_split(data,frames, axis):\n",
    "    splitint = math.floor(data.shape[axis]/frames)\n",
    "    split_indices = [frames*(i+1) for i in range(splitint-1)]\n",
    "    data = data[:,:,:(splitint*5)]\n",
    "    data = np.array_split(data, split_indices, axis=2)\n",
    "    data=np.stack(data)\n",
    "    return data"
   ]
  },
  {
   "cell_type": "code",
   "execution_count": 113,
   "metadata": {},
   "outputs": [],
   "source": [
    "X_train = reshapeindices_split(X_train, 5, 2)\n",
    "X_test = reshapeindices_split(X_test, 5, 2)"
   ]
  },
  {
   "cell_type": "code",
   "execution_count": null,
   "metadata": {},
   "outputs": [],
   "source": []
  },
  {
   "cell_type": "code",
   "execution_count": null,
   "metadata": {},
   "outputs": [],
   "source": []
  },
  {
   "cell_type": "code",
   "execution_count": 114,
   "metadata": {},
   "outputs": [],
   "source": [
    "X_train = X_train.transpose(1,3,0,2)\n",
    "X_test = X_test.transpose(1,3,0,2)"
   ]
  },
  {
   "cell_type": "code",
   "execution_count": 5,
   "metadata": {},
   "outputs": [],
   "source": [
    "class Predictor(nn.Module):\n",
    "    def __init__(self, inputDim, hiddenDim, outputDim):\n",
    "        super(Predictor, self).__init__()\n",
    "\n",
    "        self.rnn = nn.LSTM(input_size = inputDim,\n",
    "                            hidden_size = hiddenDim,\n",
    "                            batch_first = True)\n",
    "        self.output_layer = nn.Linear(hiddenDim, outputDim)\n",
    "    \n",
    "    def forward(self, inputs, hidden0=None):\n",
    "        output, (hidden, cell) = self.rnn(inputs, hidden0) #LSTM層\n",
    "        output = self.output_layer(output[:, -1, :]) #全結合層\n",
    "\n",
    "        return output"
   ]
  },
  {
   "cell_type": "code",
   "execution_count": 4,
   "metadata": {},
   "outputs": [
    {
     "ename": "NameError",
     "evalue": "name 'X_train' is not defined",
     "output_type": "error",
     "traceback": [
      "\u001b[0;31m---------------------------------------------------------------------------\u001b[0m",
      "\u001b[0;31mNameError\u001b[0m                                 Traceback (most recent call last)",
      "\u001b[0;32m<ipython-input-4-b5135e6ec675>\u001b[0m in \u001b[0;36m<module>\u001b[0;34m\u001b[0m\n\u001b[0;32m----> 1\u001b[0;31m \u001b[0mtraining_size\u001b[0m \u001b[0;34m=\u001b[0m \u001b[0mX_train\u001b[0m\u001b[0;34m.\u001b[0m\u001b[0mshape\u001b[0m\u001b[0;34m[\u001b[0m\u001b[0;36m0\u001b[0m\u001b[0;34m]\u001b[0m \u001b[0;31m#traning dataのデータ数\u001b[0m\u001b[0;34m\u001b[0m\u001b[0;34m\u001b[0m\u001b[0m\n\u001b[0m\u001b[1;32m      2\u001b[0m \u001b[0mepochs_num\u001b[0m \u001b[0;34m=\u001b[0m \u001b[0;36m1000\u001b[0m \u001b[0;31m#traningのepoch回数\u001b[0m\u001b[0;34m\u001b[0m\u001b[0;34m\u001b[0m\u001b[0m\n\u001b[1;32m      3\u001b[0m \u001b[0mhidden_size\u001b[0m \u001b[0;34m=\u001b[0m \u001b[0;36m1\u001b[0m \u001b[0;31m#LSTMの隠れ層の次元数\u001b[0m\u001b[0;34m\u001b[0m\u001b[0;34m\u001b[0m\u001b[0m\n\u001b[1;32m      4\u001b[0m \u001b[0;34m\u001b[0m\u001b[0m\n\u001b[1;32m      5\u001b[0m \u001b[0mmodel\u001b[0m \u001b[0;34m=\u001b[0m \u001b[0mPredictor\u001b[0m\u001b[0;34m(\u001b[0m\u001b[0mX_train\u001b[0m\u001b[0;34m.\u001b[0m\u001b[0mshape\u001b[0m\u001b[0;34m[\u001b[0m\u001b[0;36m3\u001b[0m\u001b[0;34m]\u001b[0m\u001b[0;34m-\u001b[0m\u001b[0;36m1\u001b[0m\u001b[0;34m,\u001b[0m \u001b[0mhidden_size\u001b[0m\u001b[0;34m,\u001b[0m \u001b[0;36m1\u001b[0m\u001b[0;34m)\u001b[0m \u001b[0;31m#modelの宣言\u001b[0m\u001b[0;34m\u001b[0m\u001b[0;34m\u001b[0m\u001b[0m\n",
      "\u001b[0;31mNameError\u001b[0m: name 'X_train' is not defined"
     ]
    }
   ],
   "source": [
    "training_size = X_train.shape[0] #traning dataのデータ数\n",
    "epochs_num = 1000 #traningのepoch回数\n",
    "hidden_size = 1 #LSTMの隠れ層の次元数\n",
    "\n",
    "model = Predictor(X_train.shape[3]-1, hidden_size, 1) #modelの宣言\n",
    "\n",
    "criterion = nn.MSELoss() #評価関数の宣言\n",
    "optimizer = SGD(model.parameters(), lr=0.01) #最適化関数の宣言"
   ]
  },
  {
   "cell_type": "code",
   "execution_count": null,
   "metadata": {},
   "outputs": [],
   "source": [
    "model = Predictor(X_train.shape[3]-1, hidden_size, 1) #modelの宣言"
   ]
  },
  {
   "cell_type": "code",
   "execution_count": 117,
   "metadata": {},
   "outputs": [],
   "source": [
    "y_traintensor = np.repeat(y_train[None, :], 5, axis=0)"
   ]
  },
  {
   "cell_type": "code",
   "execution_count": 118,
   "metadata": {},
   "outputs": [],
   "source": [
    "#Attempt 1: using MSE Loss function, 5 batches per iteration. Result: Loss function does not converge.\n",
    "#running_losscount = []\n",
    "#training_accuracycount = []\n",
    "#for epoch in range(epochs_num):\n",
    "#    running_loss = 0.0\n",
    "#    training_accuracy = 0.0\n",
    "#    for i in range(training_size):\n",
    "#        optimizer.zero_grad()\n",
    "#        data = torch.tensor(X_train[i]).float()\n",
    "#        data = data[:,:,1:]\n",
    "#        label = torch.tensor([y_traintensor[:,i]]).float().T\n",
    "\n",
    "#        output = model(data.float())\n",
    "\n",
    "#        loss = criterion(output, label)\n",
    "#        loss.backward()\n",
    "#        optimizer.step()\n",
    "\n",
    "#        running_loss += loss.data.item()\n",
    "#        training_accuracy += np.sum(np.abs((output.data - label.data).numpy()) < 0.1) \n",
    "#    training_accuracy /= training_size\n",
    "#    print('%d loss: %.3f, training_accuracy: %.5f' % (epoch + 1, running_loss, training_accuracy))\n",
    "#    running_losscount.append(running_loss)\n",
    "#    training_accuracycount.append(training_accuracy)"
   ]
  },
  {
   "cell_type": "code",
   "execution_count": 119,
   "metadata": {},
   "outputs": [],
   "source": [
    "X_train=X_train[:,:,:,0:-1]\n",
    "X_train=X_train.transpose(0,2,1,3)\n"
   ]
  },
  {
   "cell_type": "code",
   "execution_count": 120,
   "metadata": {},
   "outputs": [],
   "source": [
    "X_train = X_train.reshape(X_train.shape[0],X_train.shape[1],X_train.shape[2]*X_train.shape[3],1).transpose(0,3,1,2)"
   ]
  },
  {
   "cell_type": "code",
   "execution_count": 121,
   "metadata": {},
   "outputs": [
    {
     "data": {
      "text/plain": [
       "(154, 1, 2106, 85)"
      ]
     },
     "execution_count": 121,
     "metadata": {},
     "output_type": "execute_result"
    }
   ],
   "source": [
    "X_train.shape"
   ]
  },
  {
   "cell_type": "code",
   "execution_count": 122,
   "metadata": {},
   "outputs": [],
   "source": [
    "training_size = X_train.shape[0] #traning dataのデータ数\n",
    "epochs_num = 1000 #traningのepoch回数\n",
    "hidden_size = 1 #LSTMの隠れ層の次元数\n",
    "\n",
    "model = Predictor(X_train.shape[3], hidden_size, 1) #modelの宣言\n",
    "\n",
    "criterion = nn.MSELoss() #評価関数の宣言\n",
    "optimizer = SGD(model.parameters(), lr=0.01) #最適化関数の宣言"
   ]
  },
  {
   "cell_type": "code",
   "execution_count": 6,
   "metadata": {},
   "outputs": [
    {
     "ename": "NameError",
     "evalue": "name 'epochs_num' is not defined",
     "output_type": "error",
     "traceback": [
      "\u001b[0;31m---------------------------------------------------------------------------\u001b[0m",
      "\u001b[0;31mNameError\u001b[0m                                 Traceback (most recent call last)",
      "\u001b[0;32m<ipython-input-6-924bea91f615>\u001b[0m in \u001b[0;36m<module>\u001b[0;34m\u001b[0m\n\u001b[1;32m      1\u001b[0m \u001b[0mrunning_losscount\u001b[0m \u001b[0;34m=\u001b[0m \u001b[0;34m[\u001b[0m\u001b[0;34m]\u001b[0m\u001b[0;34m\u001b[0m\u001b[0;34m\u001b[0m\u001b[0m\n\u001b[1;32m      2\u001b[0m \u001b[0mtraining_accuracycount\u001b[0m \u001b[0;34m=\u001b[0m \u001b[0;34m[\u001b[0m\u001b[0;34m]\u001b[0m\u001b[0;34m\u001b[0m\u001b[0;34m\u001b[0m\u001b[0m\n\u001b[0;32m----> 3\u001b[0;31m \u001b[0;32mfor\u001b[0m \u001b[0mepoch\u001b[0m \u001b[0;32min\u001b[0m \u001b[0mrange\u001b[0m\u001b[0;34m(\u001b[0m\u001b[0mepochs_num\u001b[0m\u001b[0;34m)\u001b[0m\u001b[0;34m:\u001b[0m\u001b[0;34m\u001b[0m\u001b[0;34m\u001b[0m\u001b[0m\n\u001b[0m\u001b[1;32m      4\u001b[0m     \u001b[0mrunning_loss\u001b[0m \u001b[0;34m=\u001b[0m \u001b[0;36m0.0\u001b[0m\u001b[0;34m\u001b[0m\u001b[0;34m\u001b[0m\u001b[0m\n\u001b[1;32m      5\u001b[0m     \u001b[0mtraining_accuracy\u001b[0m \u001b[0;34m=\u001b[0m \u001b[0;36m0.0\u001b[0m\u001b[0;34m\u001b[0m\u001b[0;34m\u001b[0m\u001b[0m\n",
      "\u001b[0;31mNameError\u001b[0m: name 'epochs_num' is not defined"
     ]
    }
   ],
   "source": [
    "running_losscount = []\n",
    "training_accuracycount = []\n",
    "for epoch in range(epochs_num):\n",
    "    running_loss = 0.0\n",
    "    training_accuracy = 0.0\n",
    "    for i in range(training_size):\n",
    "        optimizer.zero_grad()\n",
    "        data = torch.tensor([X_train[i][0]]).float()\n",
    "        label = torch.tensor([y_traintensor[0,i]]).float().T\n",
    "\n",
    "        output = model(data.float())\n",
    "\n",
    "        loss = criterion(output, label)\n",
    "        loss.backward()\n",
    "        optimizer.step()\n",
    "\n",
    "        running_loss += loss.data.item()\n",
    "        training_accuracy += np.sum(np.abs((output.data - label.data).numpy()) < 0.1) \n",
    "    training_accuracy /= training_size\n",
    "    print('%d loss: %.3f, training_accuracy: %.5f' % (epoch + 1, running_loss, training_accuracy))\n",
    "    running_losscount.append(running_loss)\n",
    "    training_accuracycount.append(training_accuracy)"
   ]
  },
  {
   "cell_type": "code",
   "execution_count": null,
   "metadata": {},
   "outputs": [],
   "source": []
  },
  {
   "cell_type": "code",
   "execution_count": null,
   "metadata": {},
   "outputs": [],
   "source": []
  },
  {
   "cell_type": "code",
   "execution_count": null,
   "metadata": {},
   "outputs": [],
   "source": []
  },
  {
   "cell_type": "code",
   "execution_count": null,
   "metadata": {},
   "outputs": [],
   "source": []
  },
  {
   "cell_type": "code",
   "execution_count": null,
   "metadata": {},
   "outputs": [],
   "source": []
  },
  {
   "cell_type": "code",
   "execution_count": null,
   "metadata": {},
   "outputs": [],
   "source": []
  },
  {
   "cell_type": "code",
   "execution_count": null,
   "metadata": {},
   "outputs": [],
   "source": []
  },
  {
   "cell_type": "code",
   "execution_count": null,
   "metadata": {},
   "outputs": [],
   "source": []
  },
  {
   "cell_type": "code",
   "execution_count": null,
   "metadata": {},
   "outputs": [],
   "source": []
  },
  {
   "cell_type": "code",
   "execution_count": null,
   "metadata": {},
   "outputs": [],
   "source": []
  },
  {
   "cell_type": "code",
   "execution_count": null,
   "metadata": {},
   "outputs": [],
   "source": []
  },
  {
   "cell_type": "code",
   "execution_count": null,
   "metadata": {},
   "outputs": [],
   "source": []
  },
  {
   "cell_type": "code",
   "execution_count": null,
   "metadata": {},
   "outputs": [],
   "source": []
  },
  {
   "cell_type": "code",
   "execution_count": null,
   "metadata": {},
   "outputs": [],
   "source": []
  }
 ],
 "metadata": {
  "kernelspec": {
   "display_name": "Python 3",
   "language": "python",
   "name": "python3"
  },
  "language_info": {
   "codemirror_mode": {
    "name": "ipython",
    "version": 3
   },
   "file_extension": ".py",
   "mimetype": "text/x-python",
   "name": "python",
   "nbconvert_exporter": "python",
   "pygments_lexer": "ipython3",
   "version": "3.8.2"
  }
 },
 "nbformat": 4,
 "nbformat_minor": 4
}
