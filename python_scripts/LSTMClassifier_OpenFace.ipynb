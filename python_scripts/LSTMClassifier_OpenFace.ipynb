{
 "cells": [
  {
   "cell_type": "code",
   "execution_count": 63,
   "metadata": {},
   "outputs": [],
   "source": [
    "import os\n",
    "import math\n",
    "import pandas as pd\n",
    "from sklearn.model_selection import KFold\n",
    "import numpy as np\n",
    "import glob\n",
    "import torch\n",
    "import torch.nn as nn\n",
    "from torch.optim import Adam"
   ]
  },
  {
   "cell_type": "code",
   "execution_count": 64,
   "metadata": {},
   "outputs": [],
   "source": [
    "def tround(num, dec=0):\n",
    "    if (np.isnan(num)):\n",
    "        return 0\n",
    "    else:\n",
    "        a = math.floor(float(num))\n",
    "        if (num%1>=0.5):\n",
    "            return(a+1)\n",
    "        else:\n",
    "            return(a)"
   ]
  },
  {
   "cell_type": "code",
   "execution_count": 65,
   "metadata": {},
   "outputs": [],
   "source": [
    "scoredf = pd.read_csv(\"../Time-Table-Annotation.csv\")\n",
    "AU = pd.read_csv(\"../OpenFace_200/A1/AU/002-A-L-AU.csv\")\n",
    "score = scoredf.loc[1:,[\"ID\",\"Class Level\"]]\n",
    "score=score.dropna().values\n",
    "train_index = np.array([1,2])\n",
    "test_index = np.array([1,2])"
   ]
  },
  {
   "cell_type": "code",
   "execution_count": 66,
   "metadata": {},
   "outputs": [],
   "source": [
    "def Dataset_create(train_index, test_index, AU, score):\n",
    "    X_train = np.empty([AU.T.shape[0],AU.T.shape[1]])\n",
    "    X_test = np.empty([AU.T.shape[0],AU.T.shape[1]])\n",
    "    count = []\n",
    "    for filenum in train_index:\n",
    "        if (''.join(glob.iglob('../OpenFace_200/**/'+score[filenum][0]+'*-AU.csv', recursive=True))==''):\n",
    "            count.append(filenum)\n",
    "        else:\n",
    "            for filename in glob.iglob('../OpenFace_200/**/'+score[filenum][0]+'*-AU.csv', recursive=True):\n",
    "                AU = pd.read_csv(filename).values\n",
    "                if (X_train.shape[1]>AU.T.shape[1]):\n",
    "                    X_train = X_train[:,0:AU.T.shape[1]] #reduces features to the minimum of all test data. Is this ok?\n",
    "                X_train = np.dstack((X_train, AU.T[:,0:X_train.shape[1]]))\n",
    "    train_index = train_index.tolist()\n",
    "    for i in count:\n",
    "        train_index.remove(i)\n",
    "    count =[]\n",
    "    for filenum in test_index:\n",
    "        if (''.join(glob.iglob('../OpenFace_200/**/'+score[filenum][0]+'*-AU.csv', recursive=True))==''):\n",
    "            count.append(filenum)\n",
    "        else:\n",
    "            for filename in glob.iglob('../OpenFace_200/**/'+score[filenum][0]+'*-AU.csv', recursive=True):\n",
    "                AU = pd.read_csv(filename).values\n",
    "                if (X_test.shape[1]>AU.T.shape[1]):\n",
    "                    X_test = X_test[:,0:AU.T.shape[1]] #reduces features to the minimum of all test data. Is this ok?\n",
    "                    X_train = X_train[:,0:AU.T.shape[1]] #reduces features to the minimum of all test data. Is this ok?\n",
    "                X_test = np.dstack((X_test, AU.T[:,0:X_test.shape[1]]))\n",
    "    test_index = test_index.tolist()\n",
    "    for i in count:\n",
    "        test_index.remove(i)\n",
    "    y_test = np.array([tround(float(score[i][1])) for i in test_index])\n",
    "    y_train = np.array([tround(float(score[i][1])) for i in train_index])\n",
    "    X_train = X_train[:,:,1:]\n",
    "    X_test = X_test[:,:X_train.shape[1],1:]\n",
    "    X_train = X_train.transpose(2,0,1)\n",
    "    #X_train = np.reshape(X_train[:,:,:], [-1, X_train.shape[1]*X_train.shape[-1]])\n",
    "    X_test = X_test.transpose(2,0,1)\n",
    "    #X_test = np.reshape(X_test[:,:,:], [-1, X_test.shape[1]*X_test.shape[-1]])\n",
    "    return X_train, X_test, y_train, y_test"
   ]
  },
  {
   "cell_type": "code",
   "execution_count": 67,
   "metadata": {},
   "outputs": [],
   "source": [
    "def reshapeindices_flat(X_train, X_test):\n",
    "    X_train = np.reshape(X_train, [-1, X_train.shape[1]*X_train.shape[-1]])\n",
    "    X_test = np.reshape(X_test, [-1, X_test.shape[1]*X_test.shape[-1]])\n",
    "    return X_train, X_test"
   ]
  },
  {
   "cell_type": "code",
   "execution_count": 68,
   "metadata": {},
   "outputs": [],
   "source": [
    "def reshapeindices_split(data,frames, axis):\n",
    "    splitint = math.floor(data.shape[axis]/frames)\n",
    "    split_indices = [frames*(i+1) for i in range(splitint-1)]\n",
    "    data = data[:,:,:(splitint*5)]\n",
    "    data = np.array_split(data, split_indices, axis=2)\n",
    "    data=np.stack(data)\n",
    "    return data"
   ]
  },
  {
   "cell_type": "code",
   "execution_count": 69,
   "metadata": {},
   "outputs": [],
   "source": [
    "def VerificationDataset(trainsize, featsize, samplelength, testsize): #This is for debug purposes, generates a similar dataset with label 1-6 and train data 1-6.\n",
    "    x = np.floor(np.arange(trainsize)/math.floor(trainsize/6))\n",
    "    c = np.ones((featsize,samplelength))\n",
    "    X_train = x[..., None, None] * c[None, :, :]\n",
    "    y = np.floor(np.arange(testsize)/math.floor(testsize/6))\n",
    "    X_test = y[..., None, None] * c[None, :, :]\n",
    "    y_train = x\n",
    "    y_test = y\n",
    "    return X_train, X_test, y_train, y_test"
   ]
  },
  {
   "cell_type": "code",
   "execution_count": 70,
   "metadata": {},
   "outputs": [],
   "source": [
    "class Predictor(nn.Module):\n",
    "    def __init__(self, inputDim, hiddenDim, outputDim):\n",
    "        super(Predictor, self).__init__()\n",
    "        self.input_layer = nn.Linear(inputDim, hiddenDim)\n",
    "        self.rnn = nn.LSTM(input_size = hiddenDim,\n",
    "                            hidden_size = hiddenDim,\n",
    "                            batch_first = True)\n",
    "        self.output_layer = nn.Linear(hiddenDim, outputDim)\n",
    "        self.softmax= nn.Softmax(dim=1)\n",
    "    \n",
    "    def forward(self, inputs, hidden0=None):\n",
    "        #print(inputs.shape)\n",
    "        inputs = inputs.permute(1,0,2)\n",
    "        output = self.input_layer(inputs) #行列サイズ対処\n",
    "        output, (hidden, cell) = self.rnn(output, hidden0) #LSTM層\n",
    "        output = self.output_layer(output[:, -1, :]) #全結合層\n",
    "        output = self.softmax(output)\n",
    "        \n",
    "        return output"
   ]
  },
  {
   "cell_type": "code",
   "execution_count": null,
   "metadata": {},
   "outputs": [],
   "source": []
  },
  {
   "cell_type": "code",
   "execution_count": 40,
   "metadata": {},
   "outputs": [
    {
     "name": "stdout",
     "output_type": "stream",
     "text": [
      "(155, 18, 10531) (18, 18, 10531) (155,) (18,)\n"
     ]
    }
   ],
   "source": [
    "kf = KFold(n_splits = 10, shuffle = True)\n",
    "for train_index, test_index in kf.split(score):\n",
    "    X_train, X_test, y_train, y_test = Dataset_create(train_index, test_index, AU, score)\n",
    "    print(X_train.shape, X_test.shape, y_train.shape, y_test.shape)\n",
    "    break"
   ]
  },
  {
   "cell_type": "code",
   "execution_count": 71,
   "metadata": {},
   "outputs": [],
   "source": [
    "X_train, X_test, y_train, y_test = VerificationDataset(155, 18, 10531, 18)"
   ]
  },
  {
   "cell_type": "code",
   "execution_count": null,
   "metadata": {},
   "outputs": [],
   "source": []
  },
  {
   "cell_type": "code",
   "execution_count": 72,
   "metadata": {},
   "outputs": [],
   "source": [
    "X_train = reshapeindices_split(X_train, 5, 2)\n",
    "X_test = reshapeindices_split(X_test, 5, 2)\n",
    "X_train = X_train.transpose(1,3,0,2)\n",
    "X_test = X_test.transpose(1,3,0,2)"
   ]
  },
  {
   "cell_type": "code",
   "execution_count": null,
   "metadata": {},
   "outputs": [],
   "source": []
  },
  {
   "cell_type": "code",
   "execution_count": null,
   "metadata": {},
   "outputs": [],
   "source": []
  },
  {
   "cell_type": "code",
   "execution_count": 73,
   "metadata": {},
   "outputs": [
    {
     "data": {
      "text/plain": [
       "(155, 5, 2106, 18)"
      ]
     },
     "execution_count": 73,
     "metadata": {},
     "output_type": "execute_result"
    }
   ],
   "source": [
    "X_train.shape"
   ]
  },
  {
   "cell_type": "code",
   "execution_count": 74,
   "metadata": {},
   "outputs": [],
   "source": [
    "y_traintensor = np.repeat(y_train[None, :], X_train.shape[2], axis=0)"
   ]
  },
  {
   "cell_type": "code",
   "execution_count": 75,
   "metadata": {},
   "outputs": [
    {
     "data": {
      "text/plain": [
       "(155, 5, 2106, 18)"
      ]
     },
     "execution_count": 75,
     "metadata": {},
     "output_type": "execute_result"
    }
   ],
   "source": [
    "X_train.shape"
   ]
  },
  {
   "cell_type": "code",
   "execution_count": 76,
   "metadata": {},
   "outputs": [],
   "source": [
    "X_train=X_train[:,:,:,1:]\n",
    "X_train=X_train.transpose(0,2,1,3)\n"
   ]
  },
  {
   "cell_type": "code",
   "execution_count": 77,
   "metadata": {},
   "outputs": [],
   "source": [
    "X_train = X_train.reshape(X_train.shape[0],X_train.shape[1],X_train.shape[2]*X_train.shape[3],1).transpose(0,3,1,2)"
   ]
  },
  {
   "cell_type": "code",
   "execution_count": 79,
   "metadata": {},
   "outputs": [
    {
     "data": {
      "text/plain": [
       "(155, 1, 2106, 85)"
      ]
     },
     "execution_count": 79,
     "metadata": {},
     "output_type": "execute_result"
    }
   ],
   "source": [
    "X_train.shape"
   ]
  },
  {
   "cell_type": "code",
   "execution_count": 83,
   "metadata": {},
   "outputs": [
    {
     "data": {
      "text/plain": [
       "(2106, 85)"
      ]
     },
     "execution_count": 83,
     "metadata": {},
     "output_type": "execute_result"
    }
   ],
   "source": [
    "X_train[154,0].shape"
   ]
  },
  {
   "cell_type": "code",
   "execution_count": 55,
   "metadata": {},
   "outputs": [],
   "source": [
    "training_size = X_train.shape[0] #traning dataのデータ数\n",
    "epochs_num = 1000 #traningのepoch回数\n",
    "hidden_size = 50 #LSTMの隠れ層の次元数\n",
    "\n",
    "model = Predictor(X_train.shape[3], hidden_size, 7) #modelの宣言\n",
    "\n",
    "criterion = nn.CrossEntropyLoss() #評価関数の宣言\n",
    "optimizer = Adam(model.parameters(), lr=0.01) #最適化関数の宣言"
   ]
  },
  {
   "cell_type": "code",
   "execution_count": 56,
   "metadata": {
    "scrolled": false
   },
   "outputs": [
    {
     "data": {
      "text/plain": [
       "Predictor(\n",
       "  (input_layer): Linear(in_features=85, out_features=50, bias=True)\n",
       "  (rnn): LSTM(50, 50, batch_first=True)\n",
       "  (output_layer): Linear(in_features=50, out_features=7, bias=True)\n",
       "  (softmax): Softmax(dim=1)\n",
       ")"
      ]
     },
     "execution_count": 56,
     "metadata": {},
     "output_type": "execute_result"
    }
   ],
   "source": [
    "model"
   ]
  },
  {
   "cell_type": "code",
   "execution_count": null,
   "metadata": {},
   "outputs": [
    {
     "name": "stdout",
     "output_type": "stream",
     "text": [
      "torch.Size([2106, 7])\n",
      "outputtorch.Size([2106])\n",
      "tensor([0, 0, 0,  ..., 0, 0, 0])\n",
      "inputtorch.Size([2106])\n",
      "tensor([0, 0, 0,  ..., 0, 0, 0])\n",
      "torch.Size([2106, 7])\n",
      "outputtorch.Size([2106])\n",
      "tensor([0, 0, 0,  ..., 0, 0, 0])\n",
      "inputtorch.Size([2106])\n",
      "tensor([0, 0, 0,  ..., 0, 0, 0])\n",
      "torch.Size([2106, 7])\n",
      "outputtorch.Size([2106])\n",
      "tensor([0, 0, 0,  ..., 0, 0, 0])\n",
      "inputtorch.Size([2106])\n",
      "tensor([0, 0, 0,  ..., 0, 0, 0])\n",
      "torch.Size([2106, 7])\n",
      "outputtorch.Size([2106])\n",
      "tensor([0, 0, 0,  ..., 0, 0, 0])\n",
      "inputtorch.Size([2106])\n",
      "tensor([0, 0, 0,  ..., 0, 0, 0])\n",
      "torch.Size([2106, 7])\n",
      "outputtorch.Size([2106])\n",
      "tensor([0, 0, 0,  ..., 0, 0, 0])\n",
      "inputtorch.Size([2106])\n",
      "tensor([0, 0, 0,  ..., 0, 0, 0])\n",
      "torch.Size([2106, 7])\n",
      "outputtorch.Size([2106])\n",
      "tensor([0, 0, 0,  ..., 0, 0, 0])\n",
      "inputtorch.Size([2106])\n",
      "tensor([0, 0, 0,  ..., 0, 0, 0])\n",
      "torch.Size([2106, 7])\n",
      "outputtorch.Size([2106])\n",
      "tensor([0, 0, 0,  ..., 0, 0, 0])\n",
      "inputtorch.Size([2106])\n",
      "tensor([0, 0, 0,  ..., 0, 0, 0])\n",
      "torch.Size([2106, 7])\n",
      "outputtorch.Size([2106])\n",
      "tensor([0, 0, 0,  ..., 0, 0, 0])\n",
      "inputtorch.Size([2106])\n",
      "tensor([0, 0, 0,  ..., 0, 0, 0])\n",
      "torch.Size([2106, 7])\n",
      "outputtorch.Size([2106])\n",
      "tensor([0, 0, 0,  ..., 0, 0, 0])\n",
      "inputtorch.Size([2106])\n",
      "tensor([0, 0, 0,  ..., 0, 0, 0])\n",
      "torch.Size([2106, 7])\n",
      "outputtorch.Size([2106])\n",
      "tensor([0, 0, 0,  ..., 0, 0, 0])\n",
      "inputtorch.Size([2106])\n",
      "tensor([0, 0, 0,  ..., 0, 0, 0])\n",
      "torch.Size([2106, 7])\n",
      "outputtorch.Size([2106])\n",
      "tensor([0, 0, 0,  ..., 0, 0, 0])\n",
      "inputtorch.Size([2106])\n",
      "tensor([0, 0, 0,  ..., 0, 0, 0])\n",
      "torch.Size([2106, 7])\n",
      "outputtorch.Size([2106])\n",
      "tensor([0, 0, 0,  ..., 0, 0, 0])\n",
      "inputtorch.Size([2106])\n",
      "tensor([0, 0, 0,  ..., 0, 0, 0])\n",
      "torch.Size([2106, 7])\n",
      "outputtorch.Size([2106])\n",
      "tensor([0, 0, 0,  ..., 0, 0, 0])\n",
      "inputtorch.Size([2106])\n",
      "tensor([0, 0, 0,  ..., 0, 0, 0])\n",
      "torch.Size([2106, 7])\n",
      "outputtorch.Size([2106])\n",
      "tensor([0, 0, 0,  ..., 0, 0, 0])\n",
      "inputtorch.Size([2106])\n",
      "tensor([0, 0, 0,  ..., 0, 0, 0])\n",
      "torch.Size([2106, 7])\n",
      "outputtorch.Size([2106])\n",
      "tensor([0, 0, 0,  ..., 0, 0, 0])\n",
      "inputtorch.Size([2106])\n",
      "tensor([0, 0, 0,  ..., 0, 0, 0])\n",
      "torch.Size([2106, 7])\n",
      "outputtorch.Size([2106])\n",
      "tensor([0, 0, 0,  ..., 0, 0, 0])\n",
      "inputtorch.Size([2106])\n",
      "tensor([0, 0, 0,  ..., 0, 0, 0])\n",
      "torch.Size([2106, 7])\n",
      "outputtorch.Size([2106])\n",
      "tensor([0, 0, 0,  ..., 0, 0, 0])\n",
      "inputtorch.Size([2106])\n",
      "tensor([0, 0, 0,  ..., 0, 0, 0])\n",
      "torch.Size([2106, 7])\n",
      "outputtorch.Size([2106])\n",
      "tensor([0, 0, 0,  ..., 0, 0, 0])\n",
      "inputtorch.Size([2106])\n",
      "tensor([0, 0, 0,  ..., 0, 0, 0])\n",
      "torch.Size([2106, 7])\n",
      "outputtorch.Size([2106])\n",
      "tensor([0, 0, 0,  ..., 0, 0, 0])\n",
      "inputtorch.Size([2106])\n",
      "tensor([0, 0, 0,  ..., 0, 0, 0])\n",
      "torch.Size([2106, 7])\n",
      "outputtorch.Size([2106])\n",
      "tensor([0, 0, 0,  ..., 0, 0, 0])\n",
      "inputtorch.Size([2106])\n",
      "tensor([0, 0, 0,  ..., 0, 0, 0])\n",
      "torch.Size([2106, 7])\n",
      "outputtorch.Size([2106])\n",
      "tensor([0, 0, 0,  ..., 0, 0, 0])\n",
      "inputtorch.Size([2106])\n",
      "tensor([0, 0, 0,  ..., 0, 0, 0])\n",
      "torch.Size([2106, 7])\n",
      "outputtorch.Size([2106])\n",
      "tensor([0, 0, 0,  ..., 0, 0, 0])\n",
      "inputtorch.Size([2106])\n",
      "tensor([0, 0, 0,  ..., 0, 0, 0])\n",
      "torch.Size([2106, 7])\n",
      "outputtorch.Size([2106])\n",
      "tensor([0, 0, 0,  ..., 0, 0, 0])\n",
      "inputtorch.Size([2106])\n",
      "tensor([0, 0, 0,  ..., 0, 0, 0])\n",
      "torch.Size([2106, 7])\n",
      "outputtorch.Size([2106])\n",
      "tensor([0, 0, 0,  ..., 0, 0, 0])\n",
      "inputtorch.Size([2106])\n",
      "tensor([0, 0, 0,  ..., 0, 0, 0])\n",
      "torch.Size([2106, 7])\n",
      "outputtorch.Size([2106])\n",
      "tensor([0, 0, 0,  ..., 0, 0, 0])\n",
      "inputtorch.Size([2106])\n",
      "tensor([0, 0, 0,  ..., 0, 0, 0])\n",
      "torch.Size([2106, 7])\n",
      "outputtorch.Size([2106])\n",
      "tensor([0, 0, 0,  ..., 0, 0, 0])\n",
      "inputtorch.Size([2106])\n",
      "tensor([1, 1, 1,  ..., 1, 1, 1])\n",
      "torch.Size([2106, 7])\n",
      "outputtorch.Size([2106])\n",
      "tensor([0, 0, 0,  ..., 0, 0, 0])\n",
      "inputtorch.Size([2106])\n",
      "tensor([1, 1, 1,  ..., 1, 1, 1])\n",
      "torch.Size([2106, 7])\n",
      "outputtorch.Size([2106])\n",
      "tensor([0, 0, 0,  ..., 0, 0, 0])\n",
      "inputtorch.Size([2106])\n",
      "tensor([1, 1, 1,  ..., 1, 1, 1])\n",
      "torch.Size([2106, 7])\n",
      "outputtorch.Size([2106])\n",
      "tensor([0, 0, 0,  ..., 0, 0, 0])\n",
      "inputtorch.Size([2106])\n",
      "tensor([1, 1, 1,  ..., 1, 1, 1])\n",
      "torch.Size([2106, 7])\n",
      "outputtorch.Size([2106])\n",
      "tensor([0, 0, 0,  ..., 0, 0, 0])\n",
      "inputtorch.Size([2106])\n",
      "tensor([1, 1, 1,  ..., 1, 1, 1])\n",
      "torch.Size([2106, 7])\n",
      "outputtorch.Size([2106])\n",
      "tensor([0, 0, 0,  ..., 0, 0, 0])\n",
      "inputtorch.Size([2106])\n",
      "tensor([1, 1, 1,  ..., 1, 1, 1])\n",
      "torch.Size([2106, 7])\n",
      "outputtorch.Size([2106])\n",
      "tensor([0, 0, 0,  ..., 0, 0, 0])\n",
      "inputtorch.Size([2106])\n",
      "tensor([1, 1, 1,  ..., 1, 1, 1])\n",
      "torch.Size([2106, 7])\n",
      "outputtorch.Size([2106])\n",
      "tensor([0, 0, 0,  ..., 0, 0, 0])\n",
      "inputtorch.Size([2106])\n",
      "tensor([1, 1, 1,  ..., 1, 1, 1])\n",
      "torch.Size([2106, 7])\n",
      "outputtorch.Size([2106])\n",
      "tensor([0, 0, 0,  ..., 0, 0, 0])\n",
      "inputtorch.Size([2106])\n",
      "tensor([1, 1, 1,  ..., 1, 1, 1])\n",
      "torch.Size([2106, 7])\n",
      "outputtorch.Size([2106])\n",
      "tensor([0, 0, 0,  ..., 0, 0, 0])\n",
      "inputtorch.Size([2106])\n",
      "tensor([1, 1, 1,  ..., 1, 1, 1])\n",
      "torch.Size([2106, 7])\n",
      "outputtorch.Size([2106])\n",
      "tensor([0, 0, 0,  ..., 0, 0, 0])\n",
      "inputtorch.Size([2106])\n",
      "tensor([1, 1, 1,  ..., 1, 1, 1])\n",
      "torch.Size([2106, 7])\n",
      "outputtorch.Size([2106])\n",
      "tensor([0, 0, 0,  ..., 0, 0, 0])\n",
      "inputtorch.Size([2106])\n",
      "tensor([1, 1, 1,  ..., 1, 1, 1])\n",
      "torch.Size([2106, 7])\n",
      "outputtorch.Size([2106])\n",
      "tensor([0, 0, 0,  ..., 0, 0, 0])\n",
      "inputtorch.Size([2106])\n",
      "tensor([1, 1, 1,  ..., 1, 1, 1])\n",
      "torch.Size([2106, 7])\n",
      "outputtorch.Size([2106])\n",
      "tensor([0, 0, 0,  ..., 0, 0, 0])\n",
      "inputtorch.Size([2106])\n",
      "tensor([1, 1, 1,  ..., 1, 1, 1])\n",
      "torch.Size([2106, 7])\n",
      "outputtorch.Size([2106])\n",
      "tensor([0, 0, 0,  ..., 0, 0, 0])\n",
      "inputtorch.Size([2106])\n",
      "tensor([1, 1, 1,  ..., 1, 1, 1])\n",
      "torch.Size([2106, 7])\n",
      "outputtorch.Size([2106])\n",
      "tensor([0, 0, 0,  ..., 0, 0, 0])\n",
      "inputtorch.Size([2106])\n",
      "tensor([1, 1, 1,  ..., 1, 1, 1])\n",
      "torch.Size([2106, 7])\n",
      "outputtorch.Size([2106])\n",
      "tensor([0, 0, 0,  ..., 0, 0, 0])\n",
      "inputtorch.Size([2106])\n",
      "tensor([1, 1, 1,  ..., 1, 1, 1])\n",
      "torch.Size([2106, 7])\n",
      "outputtorch.Size([2106])\n",
      "tensor([0, 0, 0,  ..., 0, 0, 0])\n",
      "inputtorch.Size([2106])\n",
      "tensor([1, 1, 1,  ..., 1, 1, 1])\n",
      "torch.Size([2106, 7])\n",
      "outputtorch.Size([2106])\n",
      "tensor([0, 0, 0,  ..., 0, 0, 0])\n",
      "inputtorch.Size([2106])\n",
      "tensor([1, 1, 1,  ..., 1, 1, 1])\n",
      "torch.Size([2106, 7])\n",
      "outputtorch.Size([2106])\n",
      "tensor([0, 0, 0,  ..., 0, 0, 0])\n",
      "inputtorch.Size([2106])\n",
      "tensor([1, 1, 1,  ..., 1, 1, 1])\n",
      "torch.Size([2106, 7])\n",
      "outputtorch.Size([2106])\n",
      "tensor([0, 0, 0,  ..., 0, 0, 0])\n",
      "inputtorch.Size([2106])\n",
      "tensor([1, 1, 1,  ..., 1, 1, 1])\n",
      "torch.Size([2106, 7])\n",
      "outputtorch.Size([2106])\n",
      "tensor([0, 0, 0,  ..., 0, 0, 0])\n",
      "inputtorch.Size([2106])\n",
      "tensor([1, 1, 1,  ..., 1, 1, 1])\n",
      "torch.Size([2106, 7])\n",
      "outputtorch.Size([2106])\n",
      "tensor([0, 0, 0,  ..., 0, 0, 0])\n",
      "inputtorch.Size([2106])\n",
      "tensor([1, 1, 1,  ..., 1, 1, 1])\n",
      "torch.Size([2106, 7])\n",
      "outputtorch.Size([2106])\n",
      "tensor([0, 0, 0,  ..., 0, 0, 0])\n",
      "inputtorch.Size([2106])\n",
      "tensor([1, 1, 1,  ..., 1, 1, 1])\n",
      "torch.Size([2106, 7])\n",
      "outputtorch.Size([2106])\n",
      "tensor([0, 0, 0,  ..., 0, 0, 0])\n",
      "inputtorch.Size([2106])\n",
      "tensor([1, 1, 1,  ..., 1, 1, 1])\n",
      "torch.Size([2106, 7])\n",
      "outputtorch.Size([2106])\n",
      "tensor([0, 0, 0,  ..., 0, 0, 0])\n",
      "inputtorch.Size([2106])\n",
      "tensor([2, 2, 2,  ..., 2, 2, 2])\n",
      "torch.Size([2106, 7])\n",
      "outputtorch.Size([2106])\n",
      "tensor([0, 0, 0,  ..., 0, 0, 0])\n",
      "inputtorch.Size([2106])\n",
      "tensor([2, 2, 2,  ..., 2, 2, 2])\n",
      "torch.Size([2106, 7])\n",
      "outputtorch.Size([2106])\n",
      "tensor([0, 0, 0,  ..., 0, 0, 0])\n",
      "inputtorch.Size([2106])\n",
      "tensor([2, 2, 2,  ..., 2, 2, 2])\n",
      "torch.Size([2106, 7])\n",
      "outputtorch.Size([2106])\n",
      "tensor([0, 0, 0,  ..., 0, 0, 0])\n",
      "inputtorch.Size([2106])\n",
      "tensor([2, 2, 2,  ..., 2, 2, 2])\n",
      "torch.Size([2106, 7])\n",
      "outputtorch.Size([2106])\n",
      "tensor([0, 0, 0,  ..., 0, 0, 0])\n",
      "inputtorch.Size([2106])\n",
      "tensor([2, 2, 2,  ..., 2, 2, 2])\n",
      "torch.Size([2106, 7])\n",
      "outputtorch.Size([2106])\n",
      "tensor([0, 0, 0,  ..., 0, 0, 0])\n",
      "inputtorch.Size([2106])\n",
      "tensor([2, 2, 2,  ..., 2, 2, 2])\n",
      "torch.Size([2106, 7])\n",
      "outputtorch.Size([2106])\n",
      "tensor([0, 0, 0,  ..., 0, 0, 0])\n",
      "inputtorch.Size([2106])\n",
      "tensor([2, 2, 2,  ..., 2, 2, 2])\n",
      "torch.Size([2106, 7])\n",
      "outputtorch.Size([2106])\n",
      "tensor([0, 0, 0,  ..., 0, 0, 0])\n",
      "inputtorch.Size([2106])\n",
      "tensor([2, 2, 2,  ..., 2, 2, 2])\n",
      "torch.Size([2106, 7])\n",
      "outputtorch.Size([2106])\n",
      "tensor([0, 0, 0,  ..., 0, 0, 0])\n",
      "inputtorch.Size([2106])\n",
      "tensor([2, 2, 2,  ..., 2, 2, 2])\n",
      "torch.Size([2106, 7])\n",
      "outputtorch.Size([2106])\n",
      "tensor([0, 0, 0,  ..., 0, 0, 0])\n",
      "inputtorch.Size([2106])\n",
      "tensor([2, 2, 2,  ..., 2, 2, 2])\n",
      "torch.Size([2106, 7])\n",
      "outputtorch.Size([2106])\n",
      "tensor([0, 0, 0,  ..., 0, 0, 0])\n",
      "inputtorch.Size([2106])\n",
      "tensor([2, 2, 2,  ..., 2, 2, 2])\n"
     ]
    },
    {
     "name": "stdout",
     "output_type": "stream",
     "text": [
      "torch.Size([2106, 7])\n",
      "outputtorch.Size([2106])\n",
      "tensor([0, 0, 0,  ..., 0, 0, 0])\n",
      "inputtorch.Size([2106])\n",
      "tensor([2, 2, 2,  ..., 2, 2, 2])\n",
      "torch.Size([2106, 7])\n",
      "outputtorch.Size([2106])\n",
      "tensor([0, 0, 0,  ..., 0, 0, 0])\n",
      "inputtorch.Size([2106])\n",
      "tensor([2, 2, 2,  ..., 2, 2, 2])\n",
      "torch.Size([2106, 7])\n",
      "outputtorch.Size([2106])\n",
      "tensor([0, 0, 0,  ..., 0, 0, 0])\n",
      "inputtorch.Size([2106])\n",
      "tensor([2, 2, 2,  ..., 2, 2, 2])\n",
      "torch.Size([2106, 7])\n",
      "outputtorch.Size([2106])\n",
      "tensor([0, 0, 0,  ..., 0, 0, 0])\n",
      "inputtorch.Size([2106])\n",
      "tensor([2, 2, 2,  ..., 2, 2, 2])\n",
      "torch.Size([2106, 7])\n",
      "outputtorch.Size([2106])\n",
      "tensor([0, 0, 0,  ..., 0, 0, 0])\n",
      "inputtorch.Size([2106])\n",
      "tensor([2, 2, 2,  ..., 2, 2, 2])\n",
      "torch.Size([2106, 7])\n",
      "outputtorch.Size([2106])\n",
      "tensor([0, 0, 0,  ..., 0, 0, 0])\n",
      "inputtorch.Size([2106])\n",
      "tensor([2, 2, 2,  ..., 2, 2, 2])\n",
      "torch.Size([2106, 7])\n",
      "outputtorch.Size([2106])\n",
      "tensor([0, 0, 0,  ..., 0, 0, 0])\n",
      "inputtorch.Size([2106])\n",
      "tensor([2, 2, 2,  ..., 2, 2, 2])\n",
      "torch.Size([2106, 7])\n",
      "outputtorch.Size([2106])\n",
      "tensor([0, 0, 0,  ..., 0, 0, 0])\n",
      "inputtorch.Size([2106])\n",
      "tensor([2, 2, 2,  ..., 2, 2, 2])\n",
      "torch.Size([2106, 7])\n",
      "outputtorch.Size([2106])\n",
      "tensor([0, 0, 0,  ..., 0, 0, 0])\n",
      "inputtorch.Size([2106])\n",
      "tensor([2, 2, 2,  ..., 2, 2, 2])\n",
      "torch.Size([2106, 7])\n",
      "outputtorch.Size([2106])\n",
      "tensor([0, 0, 0,  ..., 0, 0, 0])\n",
      "inputtorch.Size([2106])\n",
      "tensor([2, 2, 2,  ..., 2, 2, 2])\n",
      "torch.Size([2106, 7])\n",
      "outputtorch.Size([2106])\n",
      "tensor([0, 0, 0,  ..., 0, 0, 0])\n",
      "inputtorch.Size([2106])\n",
      "tensor([2, 2, 2,  ..., 2, 2, 2])\n",
      "torch.Size([2106, 7])\n",
      "outputtorch.Size([2106])\n",
      "tensor([0, 0, 0,  ..., 0, 0, 0])\n",
      "inputtorch.Size([2106])\n",
      "tensor([2, 2, 2,  ..., 2, 2, 2])\n",
      "torch.Size([2106, 7])\n",
      "outputtorch.Size([2106])\n",
      "tensor([0, 0, 0,  ..., 0, 0, 0])\n",
      "inputtorch.Size([2106])\n",
      "tensor([2, 2, 2,  ..., 2, 2, 2])\n",
      "torch.Size([2106, 7])\n",
      "outputtorch.Size([2106])\n",
      "tensor([0, 0, 0,  ..., 0, 0, 0])\n",
      "inputtorch.Size([2106])\n",
      "tensor([2, 2, 2,  ..., 2, 2, 2])\n",
      "torch.Size([2106, 7])\n",
      "outputtorch.Size([2106])\n",
      "tensor([0, 0, 0,  ..., 0, 0, 0])\n",
      "inputtorch.Size([2106])\n",
      "tensor([3, 3, 3,  ..., 3, 3, 3])\n",
      "torch.Size([2106, 7])\n",
      "outputtorch.Size([2106])\n",
      "tensor([0, 0, 0,  ..., 0, 0, 0])\n",
      "inputtorch.Size([2106])\n",
      "tensor([3, 3, 3,  ..., 3, 3, 3])\n",
      "torch.Size([2106, 7])\n",
      "outputtorch.Size([2106])\n",
      "tensor([0, 0, 0,  ..., 0, 0, 0])\n",
      "inputtorch.Size([2106])\n",
      "tensor([3, 3, 3,  ..., 3, 3, 3])\n",
      "torch.Size([2106, 7])\n",
      "outputtorch.Size([2106])\n",
      "tensor([0, 0, 0,  ..., 0, 0, 0])\n",
      "inputtorch.Size([2106])\n",
      "tensor([3, 3, 3,  ..., 3, 3, 3])\n",
      "torch.Size([2106, 7])\n",
      "outputtorch.Size([2106])\n",
      "tensor([0, 0, 0,  ..., 0, 0, 0])\n",
      "inputtorch.Size([2106])\n",
      "tensor([3, 3, 3,  ..., 3, 3, 3])\n",
      "torch.Size([2106, 7])\n",
      "outputtorch.Size([2106])\n",
      "tensor([0, 0, 0,  ..., 0, 0, 0])\n",
      "inputtorch.Size([2106])\n",
      "tensor([3, 3, 3,  ..., 3, 3, 3])\n",
      "torch.Size([2106, 7])\n",
      "outputtorch.Size([2106])\n",
      "tensor([0, 0, 0,  ..., 0, 0, 0])\n",
      "inputtorch.Size([2106])\n",
      "tensor([3, 3, 3,  ..., 3, 3, 3])\n",
      "torch.Size([2106, 7])\n",
      "outputtorch.Size([2106])\n",
      "tensor([0, 0, 0,  ..., 0, 0, 0])\n",
      "inputtorch.Size([2106])\n",
      "tensor([3, 3, 3,  ..., 3, 3, 3])\n",
      "torch.Size([2106, 7])\n",
      "outputtorch.Size([2106])\n",
      "tensor([0, 0, 0,  ..., 0, 0, 0])\n",
      "inputtorch.Size([2106])\n",
      "tensor([3, 3, 3,  ..., 3, 3, 3])\n",
      "torch.Size([2106, 7])\n",
      "outputtorch.Size([2106])\n",
      "tensor([0, 0, 0,  ..., 0, 0, 0])\n",
      "inputtorch.Size([2106])\n",
      "tensor([3, 3, 3,  ..., 3, 3, 3])\n",
      "torch.Size([2106, 7])\n",
      "outputtorch.Size([2106])\n",
      "tensor([0, 0, 0,  ..., 0, 0, 0])\n",
      "inputtorch.Size([2106])\n",
      "tensor([3, 3, 3,  ..., 3, 3, 3])\n",
      "torch.Size([2106, 7])\n",
      "outputtorch.Size([2106])\n",
      "tensor([0, 0, 0,  ..., 0, 0, 0])\n",
      "inputtorch.Size([2106])\n",
      "tensor([3, 3, 3,  ..., 3, 3, 3])\n",
      "torch.Size([2106, 7])\n",
      "outputtorch.Size([2106])\n",
      "tensor([0, 0, 0,  ..., 0, 0, 0])\n",
      "inputtorch.Size([2106])\n",
      "tensor([3, 3, 3,  ..., 3, 3, 3])\n",
      "torch.Size([2106, 7])\n",
      "outputtorch.Size([2106])\n",
      "tensor([0, 0, 0,  ..., 0, 0, 0])\n",
      "inputtorch.Size([2106])\n",
      "tensor([3, 3, 3,  ..., 3, 3, 3])\n",
      "torch.Size([2106, 7])\n",
      "outputtorch.Size([2106])\n",
      "tensor([0, 0, 0,  ..., 0, 0, 0])\n",
      "inputtorch.Size([2106])\n",
      "tensor([3, 3, 3,  ..., 3, 3, 3])\n",
      "torch.Size([2106, 7])\n",
      "outputtorch.Size([2106])\n",
      "tensor([0, 0, 0,  ..., 0, 0, 0])\n",
      "inputtorch.Size([2106])\n",
      "tensor([3, 3, 3,  ..., 3, 3, 3])\n",
      "torch.Size([2106, 7])\n",
      "outputtorch.Size([2106])\n",
      "tensor([0, 0, 0,  ..., 0, 0, 0])\n",
      "inputtorch.Size([2106])\n",
      "tensor([3, 3, 3,  ..., 3, 3, 3])\n",
      "torch.Size([2106, 7])\n",
      "outputtorch.Size([2106])\n",
      "tensor([0, 0, 0,  ..., 0, 0, 0])\n",
      "inputtorch.Size([2106])\n",
      "tensor([3, 3, 3,  ..., 3, 3, 3])\n",
      "torch.Size([2106, 7])\n",
      "outputtorch.Size([2106])\n",
      "tensor([0, 0, 0,  ..., 0, 0, 0])\n",
      "inputtorch.Size([2106])\n",
      "tensor([3, 3, 3,  ..., 3, 3, 3])\n",
      "torch.Size([2106, 7])\n",
      "outputtorch.Size([2106])\n",
      "tensor([0, 0, 0,  ..., 0, 0, 0])\n",
      "inputtorch.Size([2106])\n",
      "tensor([3, 3, 3,  ..., 3, 3, 3])\n",
      "torch.Size([2106, 7])\n",
      "outputtorch.Size([2106])\n",
      "tensor([0, 0, 0,  ..., 0, 0, 0])\n",
      "inputtorch.Size([2106])\n",
      "tensor([3, 3, 3,  ..., 3, 3, 3])\n",
      "torch.Size([2106, 7])\n",
      "outputtorch.Size([2106])\n",
      "tensor([0, 0, 0,  ..., 0, 0, 0])\n",
      "inputtorch.Size([2106])\n",
      "tensor([3, 3, 3,  ..., 3, 3, 3])\n"
     ]
    }
   ],
   "source": [
    "running_losscount = []\n",
    "training_accuracycount = []\n",
    "for epoch in range(epochs_num):\n",
    "    running_loss = 0.0\n",
    "    training_accuracy = 0.0\n",
    "    for i in range(training_size):\n",
    "        optimizer.zero_grad()\n",
    "        data = torch.tensor([X_train[i][0]]).float()\n",
    "        label = torch.tensor(y_traintensor[:,i]).long().T\n",
    "        #print(data)\n",
    "        #print(label)\n",
    "        output = model(data.float())\n",
    "        #print(output.shape)\n",
    "        #print(label.shape)\n",
    "        #print(torch.min(output), torch.max(output))\n",
    "        #print(torch.min(label), torch.max(label))\n",
    "        loss = criterion(output, label)\n",
    "        loss.backward()\n",
    "        optimizer.step()\n",
    "        running_loss += loss.item()\n",
    "        print(output.shape)\n",
    "        output = torch.argmax(output, dim=1)\n",
    "        print(\"output\" + str(output.data.shape))\n",
    "        print(output.data)\n",
    "        print(\"input\" + str(label.data.shape))\n",
    "        print(label.data)\n",
    "        training_accuracy += np.sum((np.abs((output.data - label.data).numpy()) < 0.1))/len(output.data)\n",
    "        #print(i)\n",
    "    training_accuracy /= training_size\n",
    "    running_loss /= training_size\n",
    "    print('%d loss: %.3f, training_accuracy: %.5f' % (epoch + 1, running_loss, training_accuracy))\n",
    "    running_losscount.append(running_loss)\n",
    "    training_accuracycount.append(training_accuracy)"
   ]
  },
  {
   "cell_type": "code",
   "execution_count": 10,
   "metadata": {},
   "outputs": [
    {
     "ename": "NameError",
     "evalue": "name 'y_traintensor' is not defined",
     "output_type": "error",
     "traceback": [
      "\u001b[0;31m---------------------------------------------------------------------------\u001b[0m",
      "\u001b[0;31mNameError\u001b[0m                                 Traceback (most recent call last)",
      "\u001b[0;32m<ipython-input-10-ffd1706fca54>\u001b[0m in \u001b[0;36m<module>\u001b[0;34m\u001b[0m\n\u001b[0;32m----> 1\u001b[0;31m \u001b[0my_traintensor\u001b[0m\u001b[0;34m.\u001b[0m\u001b[0mshape\u001b[0m\u001b[0;34m\u001b[0m\u001b[0;34m\u001b[0m\u001b[0m\n\u001b[0m",
      "\u001b[0;31mNameError\u001b[0m: name 'y_traintensor' is not defined"
     ]
    }
   ],
   "source": []
  },
  {
   "cell_type": "code",
   "execution_count": 36,
   "metadata": {},
   "outputs": [],
   "source": [
    "x = np.floor(np.arange(155)/25)"
   ]
  },
  {
   "cell_type": "code",
   "execution_count": 37,
   "metadata": {},
   "outputs": [
    {
     "data": {
      "text/plain": [
       "array([0., 0., 0., 0., 0., 0., 0., 0., 0., 0., 0., 0., 0., 0., 0., 0., 0.,\n",
       "       0., 0., 0., 0., 0., 0., 0., 0., 1., 1., 1., 1., 1., 1., 1., 1., 1.,\n",
       "       1., 1., 1., 1., 1., 1., 1., 1., 1., 1., 1., 1., 1., 1., 1., 1., 2.,\n",
       "       2., 2., 2., 2., 2., 2., 2., 2., 2., 2., 2., 2., 2., 2., 2., 2., 2.,\n",
       "       2., 2., 2., 2., 2., 2., 2., 3., 3., 3., 3., 3., 3., 3., 3., 3., 3.,\n",
       "       3., 3., 3., 3., 3., 3., 3., 3., 3., 3., 3., 3., 3., 3., 3., 4., 4.,\n",
       "       4., 4., 4., 4., 4., 4., 4., 4., 4., 4., 4., 4., 4., 4., 4., 4., 4.,\n",
       "       4., 4., 4., 4., 4., 4., 5., 5., 5., 5., 5., 5., 5., 5., 5., 5., 5.,\n",
       "       5., 5., 5., 5., 5., 5., 5., 5., 5., 5., 5., 5., 5., 5., 6., 6., 6.,\n",
       "       6., 6.])"
      ]
     },
     "execution_count": 37,
     "metadata": {},
     "output_type": "execute_result"
    }
   ],
   "source": [
    "x"
   ]
  },
  {
   "cell_type": "code",
   "execution_count": null,
   "metadata": {},
   "outputs": [],
   "source": []
  },
  {
   "cell_type": "code",
   "execution_count": null,
   "metadata": {},
   "outputs": [],
   "source": []
  },
  {
   "cell_type": "code",
   "execution_count": 34,
   "metadata": {},
   "outputs": [],
   "source": [
    "a = np.array([1, 2,3,4,5])\n",
    "c = np.ones((18,10531))\n",
    "d = x[..., None, None] * c[None, :, :]"
   ]
  },
  {
   "cell_type": "code",
   "execution_count": 35,
   "metadata": {},
   "outputs": [
    {
     "data": {
      "text/plain": [
       "(155, 18, 10531)"
      ]
     },
     "execution_count": 35,
     "metadata": {},
     "output_type": "execute_result"
    }
   ],
   "source": [
    "d.shape"
   ]
  },
  {
   "cell_type": "code",
   "execution_count": null,
   "metadata": {},
   "outputs": [],
   "source": []
  },
  {
   "cell_type": "code",
   "execution_count": null,
   "metadata": {},
   "outputs": [],
   "source": []
  },
  {
   "cell_type": "code",
   "execution_count": null,
   "metadata": {},
   "outputs": [],
   "source": []
  },
  {
   "cell_type": "code",
   "execution_count": null,
   "metadata": {},
   "outputs": [],
   "source": []
  },
  {
   "cell_type": "code",
   "execution_count": null,
   "metadata": {},
   "outputs": [],
   "source": []
  },
  {
   "cell_type": "code",
   "execution_count": null,
   "metadata": {},
   "outputs": [],
   "source": []
  },
  {
   "cell_type": "code",
   "execution_count": null,
   "metadata": {},
   "outputs": [],
   "source": []
  }
 ],
 "metadata": {
  "kernelspec": {
   "display_name": "Python 3",
   "language": "python",
   "name": "python3"
  },
  "language_info": {
   "codemirror_mode": {
    "name": "ipython",
    "version": 3
   },
   "file_extension": ".py",
   "mimetype": "text/x-python",
   "name": "python",
   "nbconvert_exporter": "python",
   "pygments_lexer": "ipython3",
   "version": "3.8.2"
  }
 },
 "nbformat": 4,
 "nbformat_minor": 4
}
